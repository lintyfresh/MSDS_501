{
 "cells": [
  {
   "cell_type": "code",
   "execution_count": null,
   "id": "e4699df5",
   "metadata": {},
   "outputs": [],
   "source": [
    "#Function Syntax \n",
    "\n",
    "def function_name(args):\n",
    "    statements\n",
    "    return value1, value2, ... #return is optional, this code will return a tuple\n",
    "\n",
    "#Ideally name functions as add_num vs addnum or add_Nums"
   ]
  },
  {
   "cell_type": "code",
   "execution_count": null,
   "id": "8dd37e0b",
   "metadata": {},
   "outputs": [],
   "source": [
    "#Parameters\n",
    "\n",
    "def function name (param=default_val):\n",
    "    return value1, value2, ..."
   ]
  },
  {
   "cell_type": "code",
   "execution_count": null,
   "id": "4ecb2a33",
   "metadata": {},
   "outputs": [],
   "source": [
    "#Positional Parameters\n",
    "\n",
    "def rectangle_area(length, width):\n",
    "    return length * width\n",
    "\n",
    "rectangle_area(5,3)"
   ]
  },
  {
   "cell_type": "code",
   "execution_count": null,
   "id": "0a1cf112",
   "metadata": {},
   "outputs": [],
   "source": [
    "#Keyword Parameters\n",
    "\n",
    "def greet(name, age):\n",
    "    print(f\"Hi {name}, you are {age}\")\n",
    "\n",
    "greet(age = 30, name = \"Alice\")\n",
    "greet(name = \"Bob\", age = 25) #position of args don't matter when it comes to keyword parameters"
   ]
  },
  {
   "cell_type": "code",
   "execution_count": null,
   "id": "592b3b43",
   "metadata": {},
   "outputs": [],
   "source": [
    "def greet(name, age):\n",
    "    print(f\"Hi {name}, you are {age}\")\n",
    "\n",
    "greet(30, \"alice\") #you don't have to specify variable, it will take it based on order"
   ]
  },
  {
   "cell_type": "code",
   "execution_count": null,
   "id": "f11ef25d",
   "metadata": {},
   "outputs": [],
   "source": [
    "#Arbitrary Parameters\n",
    "\n",
    "def add_numbers(*args): #always one *\n",
    "    total = 0\n",
    "    for num in args:\n",
    "        total += num\n",
    "    return total\n",
    "\n",
    "add_numbers(1,2,3)\n",
    "add_numbers(5, 10, 15, 20)"
   ]
  },
  {
   "cell_type": "code",
   "execution_count": null,
   "id": "ed121666",
   "metadata": {},
   "outputs": [],
   "source": [
    "#Arbitrary Keyword Parameters\n",
    "\n",
    "def print_info(**kwargs): #need **, short for keyword arguments\n",
    "    for key, value in kwargs.items():\n",
    "        print(f\"{key}: {value}\")\n",
    "\n",
    "print_info(name = \"Alice\", age = 25) #must define each argument"
   ]
  },
  {
   "cell_type": "code",
   "execution_count": null,
   "id": "9cc7d207",
   "metadata": {},
   "outputs": [],
   "source": [
    "#Return Statemnts\n",
    "\n",
    "#No return/return without a value\n",
    "\n",
    "def say_hi():\n",
    "    print(\"Hi\")\n",
    "\n",
    "def say_name(name = None):\n",
    "    if name:\n",
    "        print(\"name\")\n",
    "    else:\n",
    "        return\n",
    "\n",
    "statement = \"\" + say_hi() #can't add to string because there's no return value, only print"
   ]
  },
  {
   "cell_type": "code",
   "execution_count": 4,
   "id": "a3151d53",
   "metadata": {},
   "outputs": [
    {
     "name": "stdout",
     "output_type": "stream",
     "text": [
      "ltong@usfca.edu\n",
      "ltong@usfca.edu\n",
      "ltong@usfca.edu\n",
      "tlynn@usfca.edu\n",
      "tlynn@usfca.edu\n",
      "ltong@usfca.edu\n",
      "ltong@usfca.edu\n"
     ]
    }
   ],
   "source": [
    "def generate_emails_keyword(first_name, last_name):\n",
    "    user_id = first_name.lower()[0] + last_name.lower()\n",
    "    return user_id + '@usfca.edu'\n",
    "\n",
    "print(generate_emails_keyword(\"Lynn\", \"Tong\"))\n",
    "print(generate_emails_keyword(last_name = \"Tong\", first_name = \"Lynn\")) #, middle_name = \"anan\"))\n",
    "\n",
    "def generate_emails_arbitrary(*args):\n",
    "    user_id = args[0].lower()[0] + args[1].lower()\n",
    "    return user_id + \"@usfca.edu\"\n",
    "\n",
    "print(generate_emails_arbitrary(\"Lynn\", \"Tong\"))\n",
    "#generate_emails_arbitrary(\"Lynn\") must meet min number of required arguments\n",
    "print(generate_emails_arbitrary(\"Tong\", \"Lynn\")) #position does matter\n",
    "print(generate_emails_arbitrary(\"Tong\", \"Lynn\", \"Anan\")) #ok to go over as long as you meet minimum\n",
    "\n",
    "def generate_emails_arbitrary_keyword(**kargs):\n",
    "    user_id = kargs['first_name'][0].lower() + kargs['last_name'].lower()\n",
    "    return user_id + \"@usfca.edu\"\n",
    "\n",
    "#print(generate_emails_arbitrary_keyword(\"Lynn\", \"Tong\")) #arbitrary keyword parameters need to be defined\n",
    "print(generate_emails_arbitrary_keyword(first_name = \"Lynn\", last_name = \"Tong\")) #keys don't need to be in quotes\n",
    "#print(generate_emails_arbitrary_keyword(first_name = \"Lynn\", middle_name = \"Anan\")) #must match what function is looking for\n",
    "print(generate_emails_arbitrary_keyword(last_name = \"Tong\", first_name = \"Lynn\", middle_name = \"anan\")) "
   ]
  },
  {
   "cell_type": "code",
   "execution_count": 6,
   "id": "596921d1",
   "metadata": {},
   "outputs": [
    {
     "ename": "UnboundLocalError",
     "evalue": "cannot access local variable 'counter' where it is not associated with a value",
     "output_type": "error",
     "traceback": [
      "\u001b[0;31m---------------------------------------------------------------------------\u001b[0m",
      "\u001b[0;31mUnboundLocalError\u001b[0m                         Traceback (most recent call last)",
      "Cell \u001b[0;32mIn[6], line 13\u001b[0m\n\u001b[1;32m      9\u001b[0m     \u001b[38;5;28;01mreturn\u001b[39;00m \u001b[38;5;28mmin\u001b[39m(vals), \u001b[38;5;28msum\u001b[39m(vals)\u001b[38;5;241m/\u001b[39mlength, \u001b[38;5;28mmax\u001b[39m(vals)\n\u001b[1;32m     12\u001b[0m \u001b[38;5;66;03m#print(length) #length is a local variable, doesn't exist outside of function\u001b[39;00m\n\u001b[0;32m---> 13\u001b[0m stats([\u001b[38;5;241m1\u001b[39m,\u001b[38;5;241m2\u001b[39m,\u001b[38;5;241m3\u001b[39m,\u001b[38;5;241m4\u001b[39m]) \u001b[38;5;66;03m#causes error b/c stats is trying to modify a global variable without properly calling it\u001b[39;00m\n\u001b[1;32m     14\u001b[0m stats([\u001b[38;5;241m5\u001b[39m,\u001b[38;5;241m6\u001b[39m])\n",
      "Cell \u001b[0;32mIn[6], line 7\u001b[0m, in \u001b[0;36mstats\u001b[0;34m(vals)\u001b[0m\n\u001b[1;32m      5\u001b[0m \u001b[38;5;28;01mdef\u001b[39;00m\u001b[38;5;250m \u001b[39m\u001b[38;5;21mstats\u001b[39m(vals):\n\u001b[1;32m      6\u001b[0m     length \u001b[38;5;241m=\u001b[39m \u001b[38;5;28mlen\u001b[39m(vals) \u001b[38;5;66;03m#local variable\u001b[39;00m\n\u001b[0;32m----> 7\u001b[0m     counter \u001b[38;5;241m+\u001b[39m\u001b[38;5;241m=\u001b[39m \u001b[38;5;28mlen\u001b[39m \n\u001b[1;32m      8\u001b[0m     \u001b[38;5;28mprint\u001b[39m(length)\n\u001b[1;32m      9\u001b[0m     \u001b[38;5;28;01mreturn\u001b[39;00m \u001b[38;5;28mmin\u001b[39m(vals), \u001b[38;5;28msum\u001b[39m(vals)\u001b[38;5;241m/\u001b[39mlength, \u001b[38;5;28mmax\u001b[39m(vals)\n",
      "\u001b[0;31mUnboundLocalError\u001b[0m: cannot access local variable 'counter' where it is not associated with a value"
     ]
    }
   ],
   "source": [
    "#variable scopes\n",
    "\n",
    "counter = 0 #global variable\n",
    "\n",
    "def stats(vals):\n",
    "    length = len(vals) #local variable\n",
    "    counter += len \n",
    "    print(length)\n",
    "    return min(vals), sum(vals)/length, max(vals)\n",
    "\n",
    " \n",
    "#print(length) #length is a local variable, doesn't exist outside of function\n",
    "stats([1,2,3,4]) #causes error b/c stats is trying to modify a global variable without properly calling it\n",
    "stats([5,6])"
   ]
  },
  {
   "cell_type": "code",
   "execution_count": 7,
   "id": "3b2ddbf1",
   "metadata": {},
   "outputs": [
    {
     "name": "stdout",
     "output_type": "stream",
     "text": [
      "4\n",
      "2\n",
      "6\n"
     ]
    }
   ],
   "source": [
    "#solution\n",
    "\n",
    "counter = 0 #global variable\n",
    "\n",
    "def stats(vals):\n",
    "    length = len(vals) #local variable\n",
    "    global counter #calls global variable\n",
    "    counter += length\n",
    "    print(length)\n",
    "    return min(vals), sum(vals)/length, max(vals)\n",
    "\n",
    " \n",
    "stats((1,2,3,4)) \n",
    "stats([5,6])\n",
    "\n",
    "print(counter)"
   ]
  },
  {
   "cell_type": "code",
   "execution_count": 8,
   "id": "04b0ef09",
   "metadata": {},
   "outputs": [
    {
     "name": "stdout",
     "output_type": "stream",
     "text": [
      "Help on function greet in module __main__:\n",
      "\n",
      "greet(name: str, age: int) -> str\n",
      "    This is a doc string\n",
      "\n"
     ]
    }
   ],
   "source": [
    "#Docstrings and Function Annotations\n",
    "\n",
    "def greet(name: str, age: int) -> str: #function annotation\n",
    "    \"\"\"\n",
    "    This is a doc string\n",
    "    \"\"\"\n",
    "    return f\"Hi {name}, you are {age} years old!\"\n",
    "\n",
    "help(greet) #returns function annotations and doc strings"
   ]
  },
  {
   "cell_type": "code",
   "execution_count": 9,
   "id": "14ea0f61",
   "metadata": {},
   "outputs": [
    {
     "name": "stdout",
     "output_type": "stream",
     "text": [
      "Help on function greet in module __main__:\n",
      "\n",
      "greet()\n",
      "\n"
     ]
    }
   ],
   "source": [
    "def greet(): #function annotation\n",
    "    return \"hi\"\n",
    "\n",
    "help(greet) #just returns function name if no function annotation or doc strings"
   ]
  },
  {
   "cell_type": "code",
   "execution_count": 10,
   "id": "30218490",
   "metadata": {},
   "outputs": [
    {
     "data": {
      "text/plain": [
       "['I', 'did', 'a', 'tot', 'pop', 'Noon']"
      ]
     },
     "execution_count": 10,
     "metadata": {},
     "output_type": "execute_result"
    }
   ],
   "source": [
    "def find_palindrome_words(sentence: str) -> list:\n",
    "    \"\"\"\n",
    "    Argument should be a sentence\n",
    "    Function will return all words that are palindromes in the form of a list\n",
    "    \"\"\"\n",
    "    list_of_words = list(sentence.split(\" \"))\n",
    "    palindromes = list()\n",
    "    for word in list_of_words:\n",
    "        lower_word = word.lower()\n",
    "        if lower_word == lower_word[::-1]:\n",
    "            palindromes.append(word)\n",
    "    return palindromes\n",
    "\n",
    "find_palindrome_words(\"I did not like to listen a tot pop at Noon\")\n"
   ]
  },
  {
   "cell_type": "code",
   "execution_count": 11,
   "id": "e1bdfa6d",
   "metadata": {},
   "outputs": [
    {
     "data": {
      "text/plain": [
       "9"
      ]
     },
     "execution_count": 11,
     "metadata": {},
     "output_type": "execute_result"
    }
   ],
   "source": [
    "#lambda\n",
    "\n",
    "square = lambda x: x * x\n",
    "square(3)"
   ]
  },
  {
   "cell_type": "code",
   "execution_count": null,
   "id": "a89cc899",
   "metadata": {},
   "outputs": [],
   "source": [
    "vals = [(3,'c'), (2,'b'), (1,'d')]\n",
    "vals.sort()\n",
    "vals\n",
    "\n",
    "vars.sort(key = lambda x: x[1])\n",
    "print(vars)\n",
    "\n",
    "vars.sort(key = lambda x: x[1], reverse = True )\n",
    "print(vars)"
   ]
  },
  {
   "cell_type": "code",
   "execution_count": null,
   "id": "dc0021dd",
   "metadata": {},
   "outputs": [],
   "source": [
    "lst = [(1,2,3), (3,4), (5,4,3,2)]\n",
    "\n",
    "#sort list by last element in reverse\n",
    "\n",
    "lst.sort(key = lambda x: x[-1], reverse = True)\n",
    "print(lst)\n",
    "\n",
    "#sort list by second to last element\n",
    "\n",
    "lst.sort(key = lambda x: x[len(x)-2])\n",
    "print(lst)"
   ]
  },
  {
   "cell_type": "code",
   "execution_count": null,
   "id": "e0e92a8c",
   "metadata": {},
   "outputs": [],
   "source": [
    "#decorators\n",
    "\n",
    "#syntax\n",
    "\n",
    "def decorator_func(f): #parameter is always a function\n",
    "    def inner_function(*args or **kargs): #inner function is where we start working with arguments from f\n",
    "        return statements \n",
    "    return inner function\n",
    "\n",
    "@decorator_func #call decorator_func on top of \"f\"\n",
    "def func(): #from here can define as usual\n",
    "    statements\n",
    "\n",
    "#now when you call func() you're actually calling decorator_func(func()), no need to call decorator seperately\n",
    "\n"
   ]
  },
  {
   "cell_type": "code",
   "execution_count": 13,
   "id": "55a369c1",
   "metadata": {},
   "outputs": [],
   "source": [
    "#Example 3\n",
    "\n",
    "def ten_percent_increase(f):\n",
    "    def inner_function(*args): #*args if you're passing in a list, **args if it's a dictionary/defined arguments\n",
    "        return f(args[0]) *1.10 #specifies that we want to use the first argument since *args converts input to a list\n",
    "        #need to place return function here as well\n",
    "    return inner_function #always return inner function\n",
    "\n",
    "@ten_percent_increase\n",
    "def return_wage(val):\n",
    "    return float(val)\n",
    "\n"
   ]
  },
  {
   "cell_type": "code",
   "execution_count": 3,
   "id": "8ede6a26",
   "metadata": {},
   "outputs": [],
   "source": [
    "\n",
    "def ten_percent_increase(f):\n",
    "    def inner_function(*args): #*args if you're passing in a list, **args if it's a dictionary/defined arguments\n",
    "        return f(args[0]) *1.10 #specifies that we want to use the first argument since *args converts input to a list\n",
    "        #need to place return function here as well\n",
    "    return inner_function #always return inner function\n",
    "\n",
    "@ten_percent_increase\n",
    "def return_wage(val):\n",
    "    return float(val)"
   ]
  },
  {
   "cell_type": "code",
   "execution_count": 4,
   "id": "c3ff1400",
   "metadata": {},
   "outputs": [
    {
     "data": {
      "text/plain": [
       "110.00000000000001"
      ]
     },
     "execution_count": 4,
     "metadata": {},
     "output_type": "execute_result"
    }
   ],
   "source": [
    "return_wage('100')"
   ]
  },
  {
   "cell_type": "code",
   "execution_count": 14,
   "id": "63888ff9",
   "metadata": {},
   "outputs": [
    {
     "data": {
      "text/plain": [
       "110.00000000000001"
      ]
     },
     "execution_count": 14,
     "metadata": {},
     "output_type": "execute_result"
    }
   ],
   "source": [
    "#Example 3\n",
    "\n",
    "def ten_percent_increase(f):\n",
    "    def inner_function(**args): \n",
    "        return f(**args) *1.10 #syntax changes\n",
    "    return inner_function \n",
    "\n",
    "\n",
    "@ten_percent_increase\n",
    "def return_wage(val):\n",
    "    return float(val)\n",
    "\n",
    "return_wage(val=100)"
   ]
  },
  {
   "cell_type": "code",
   "execution_count": 15,
   "id": "a596e879",
   "metadata": {},
   "outputs": [
    {
     "data": {
      "text/plain": [
       "145.20000000000002"
      ]
     },
     "execution_count": 15,
     "metadata": {},
     "output_type": "execute_result"
    }
   ],
   "source": [
    "#Example 3\n",
    "\n",
    "def ten_percent_increase(f):\n",
    "    def inner_function(*args): #*args if you're passing in a list, **args if it's a dictionary/defined arguments\n",
    "        return f(args[0]) *1.10 #specifies that we want to use the first argument since *args converts input to a list\n",
    "        #need to place return function here as well\n",
    "    return inner_function #always return inner function\n",
    "\n",
    "def twenty_percent_increase(f):\n",
    "    def inner_function(*args):\n",
    "        return f(args[0]) *1.20\n",
    "    return inner_function\n",
    "\n",
    "@twenty_percent_increase\n",
    "@ten_percent_increase\n",
    "def return_wage(val):\n",
    "    return float(val)\n",
    "\n",
    "#twenty_percent_increase(ten_percent_increase(return_wage(val)))\n",
    "\n",
    "return_wage(110)\n"
   ]
  },
  {
   "cell_type": "code",
   "execution_count": 16,
   "id": "43a73209",
   "metadata": {},
   "outputs": [
    {
     "data": {
      "text/plain": [
       "'hihihi'"
      ]
     },
     "execution_count": 16,
     "metadata": {},
     "output_type": "execute_result"
    }
   ],
   "source": [
    "def in_thirds(f):\n",
    "    def inner_function(*args):\n",
    "        return f(args[0]) * 3\n",
    "    return inner_function\n",
    "\n",
    "@in_thirds\n",
    "def my_name(string):\n",
    "    return string\n",
    "\n",
    "my_name(\"hi\")"
   ]
  },
  {
   "cell_type": "code",
   "execution_count": 17,
   "id": "5fe9f9e4",
   "metadata": {},
   "outputs": [
    {
     "data": {
      "text/plain": [
       "'hihihi'"
      ]
     },
     "execution_count": 17,
     "metadata": {},
     "output_type": "execute_result"
    }
   ],
   "source": [
    "def in_thirds(f):\n",
    "    def inner_function(**args):\n",
    "        return f(**args) * 3\n",
    "    return inner_function\n",
    "\n",
    "@in_thirds\n",
    "def my_name(string):\n",
    "    return string\n",
    "\n",
    "my_name(string = \"hi\")"
   ]
  },
  {
   "cell_type": "code",
   "execution_count": null,
   "id": "6a54b795",
   "metadata": {},
   "outputs": [],
   "source": [
    "#Recursion Syntax\n",
    "\n",
    "def recursive_function(input):\n",
    "    if base_case_condition:\n",
    "        return base_result\n",
    "        #when the function stops/prevents infinite recursion\n",
    "\n",
    "    else:\n",
    "        #break the task down by calling a smaller veresion of itself\n",
    "        return recursive_function(smaller_input)"
   ]
  },
  {
   "cell_type": "code",
   "execution_count": 18,
   "id": "7c1a9604",
   "metadata": {},
   "outputs": [
    {
     "data": {
      "text/plain": [
       "3"
      ]
     },
     "execution_count": 18,
     "metadata": {},
     "output_type": "execute_result"
    }
   ],
   "source": [
    "#Example 4\n",
    "\n",
    "def fib(input):\n",
    "    if input <= 1:\n",
    "        return input\n",
    "    else:\n",
    "        return fib(input - 1) + fib(input - 2)\n",
    "\n",
    "fib(4)\n",
    "    "
   ]
  },
  {
   "cell_type": "code",
   "execution_count": null,
   "id": "6536bba2",
   "metadata": {},
   "outputs": [],
   "source": [
    "#Example 5\n",
    "\n",
    "def search(nums, target):\n",
    "    length = len(nums)\n",
    "    i = 0\n",
    "    if i == length:\n",
    "        return -1\n",
    "    elif nums[i] == target:\n",
    "        return i\n",
    "    else:\n",
    "        i += 1\n",
    "        return search(nums, target)"
   ]
  },
  {
   "cell_type": "code",
   "execution_count": null,
   "id": "db16c42a",
   "metadata": {},
   "outputs": [],
   "source": [
    "#after git pull run unit test to make sure code is working\n",
    "#before git push run unit test to make sure code is working\n",
    "#if creating new function/feature create and run unit test\n",
    "\n",
    "#pytest syntax\n",
    "\n",
    "from count_min_max import * #what file youre testing if py test is in a separate file\n",
    "\n",
    "def test_count_min_max():\n",
    "    assert count_min_max([5,4,3]) == (3,3,5) # need assert, function name, argument, ==, and expected output\n",
    "\n",
    "#try writing these when reviewing code for quiz"
   ]
  },
  {
   "cell_type": "code",
   "execution_count": null,
   "id": "82355638",
   "metadata": {},
   "outputs": [],
   "source": [
    "#pytest runs all files that match: test_*.py or *_test.py in the current directory and subdirectories\n",
    "\n",
    "#to call an individual test or if you don't have test in the file name\n",
    "\n",
    "#pytest file_name.py"
   ]
  },
  {
   "cell_type": "code",
   "execution_count": 19,
   "id": "e43c1ae8",
   "metadata": {},
   "outputs": [
    {
     "name": "stdout",
     "output_type": "stream",
     "text": [
      "[4, 2, 3]\n"
     ]
    }
   ],
   "source": [
    "a = [1, 2, 3]\n",
    "b = a\n",
    "b[0] = 4\n",
    "print(a)"
   ]
  },
  {
   "cell_type": "code",
   "execution_count": 20,
   "id": "5bf5a524",
   "metadata": {},
   "outputs": [
    {
     "name": "stdout",
     "output_type": "stream",
     "text": [
      "4306332008 - 4306332008\n",
      "1\n",
      "4306332040 - 4306332008\n"
     ]
    }
   ],
   "source": [
    "var1 = 1\n",
    "var2 = var1 #var2 now also pointing at one\n",
    "print(f'{id(var1)} - {id(var2)}') #same ids\n",
    "var1 = 2 #var 1 now pointing at 2\n",
    "print(var2) #var2 remains pointing at 1\n",
    "print(f'{id(var1)} - {id(var2)}') #different ids, var2 has stayed the same"
   ]
  },
  {
   "cell_type": "code",
   "execution_count": 22,
   "id": "c59730e6",
   "metadata": {},
   "outputs": [],
   "source": [
    "def yearly_salary(increase_scale_sequence, year, base):\n",
    "    total_inc = list()\n",
    "    for i in range (len(increase_scale_sequence)):\n",
    "        if i == 0:\n",
    "            increase_scale_sequence[i] = increase_scale_sequence[i] +  1\n",
    "        else:\n",
    "            increase_scale_sequence[i] = increase_scale_sequence[i-1] * (increase_scale_sequence[i] +1)\n",
    "    return increase_scale_sequence[year-2] * base"
   ]
  },
  {
   "cell_type": "code",
   "execution_count": 23,
   "id": "af3c1f3e",
   "metadata": {},
   "outputs": [],
   "source": [
    "increase_scale_sequence = [0.01, 0.02, 0.03]\n",
    "\n",
    "year = 3\n",
    "\n",
    "base = 100000\n",
    "\n"
   ]
  },
  {
   "cell_type": "code",
   "execution_count": 25,
   "id": "db4c0d73",
   "metadata": {},
   "outputs": [
    {
     "name": "stdout",
     "output_type": "stream",
     "text": [
      "[2.01, 4.080701999999999, 8.410759376411997]\n"
     ]
    }
   ],
   "source": [
    "yearly_salary(increase_scale_sequence, year, base)\n",
    "\n",
    "print(increase_scale_sequence)"
   ]
  },
  {
   "cell_type": "code",
   "execution_count": 26,
   "id": "7948a53c",
   "metadata": {},
   "outputs": [],
   "source": [
    "##issue is that function alters the scale, ideally the function takes inputs from the list but doesn't alter it\n",
    "\n",
    "def yearly_salary(increase_scale_sequence, year, base):\n",
    "    increase_scale_copy = increase_scale_sequence.copy()\n",
    "    for i in range (len(increase_scale_copy)):\n",
    "        if i == 0:\n",
    "            increase_scale_copy[i] = increase_scale_copy[i] +  1\n",
    "        else:\n",
    "            increase_scale_copy[i] = increase_scale_copy[i-1] * (increase_scale_copy[i] +1)\n",
    "    return increase_scale_copy[year-2] * base"
   ]
  },
  {
   "cell_type": "code",
   "execution_count": null,
   "id": "7fed2f23",
   "metadata": {},
   "outputs": [
    {
     "name": "stdout",
     "output_type": "stream",
     "text": [
      "[0.01, 0.02, 0.03]\n"
     ]
    }
   ],
   "source": [
    "increase_scale_sequence = [0.01, 0.02, 0.03]\n",
    "\n",
    "year = 3\n",
    "\n",
    "base = 100000\n",
    "\n",
    "yearly_salary(increase_scale_sequence, year, base)\n",
    "\n",
    "print(increase_scale_sequence) #scale now remains unchanged"
   ]
  },
  {
   "cell_type": "code",
   "execution_count": null,
   "id": "17a9b330",
   "metadata": {},
   "outputs": [],
   "source": [
    "#Opening & reading files\n",
    "\n",
    "f = open(filepath, mode = 'r')\n",
    "\n",
    "f.read(): #reads entire file path\n",
    "f.read(size): reads a \"size\" number of bytes\n",
    "\n",
    "f.readline(): reads a single line from the file object (can do this multiple times)\n",
    "\n",
    "f.readlines(): returns a list of remaining lines"
   ]
  },
  {
   "cell_type": "code",
   "execution_count": null,
   "id": "eee65d33",
   "metadata": {},
   "outputs": [],
   "source": [
    "#writing files\n",
    "\n",
    "f.write(string) #writes contents of string to file object\n",
    "\n",
    "f.writelines(iterable) #writes the elements of iterable as separate lines"
   ]
  },
  {
   "cell_type": "code",
   "execution_count": null,
   "id": "d22371e0",
   "metadata": {},
   "outputs": [],
   "source": [
    "#clsoing files\n",
    "\n",
    "f.close() #closes the objects and pushes through write edits"
   ]
  },
  {
   "cell_type": "code",
   "execution_count": null,
   "id": "4f60560b",
   "metadata": {},
   "outputs": [],
   "source": [
    "with open(\"filepath\", \"r/w\") as f:\n",
    "    "
   ]
  },
  {
   "cell_type": "code",
   "execution_count": 1,
   "id": "43a56548",
   "metadata": {},
   "outputs": [
    {
     "data": {
      "text/plain": [
       "[2, 4]"
      ]
     },
     "execution_count": 1,
     "metadata": {},
     "output_type": "execute_result"
    }
   ],
   "source": [
    "def evens(list):\n",
    "    if len(list) == 0: #BASE CASE\n",
    "        return []\n",
    "    elif list[0]%2 == 0: #RECURSIVE CASE, add output to recursion\n",
    "        return [list[0]] + evens(list[1:])\n",
    "    else:\n",
    "        return evens(list[1:])\n",
    "\n",
    "evens([1,2,3,4])"
   ]
  },
  {
   "cell_type": "code",
   "execution_count": 2,
   "id": "35b7ac53",
   "metadata": {},
   "outputs": [
    {
     "data": {
      "text/plain": [
       "[1, 3]"
      ]
     },
     "execution_count": 2,
     "metadata": {},
     "output_type": "execute_result"
    }
   ],
   "source": [
    "def odds(list):\n",
    "    if len(list) == 0:\n",
    "        return [] #base case(what causes the program to stop)\n",
    "    elif list[0] %2 != 0:\n",
    "        return [list[0]] + odds(list[1:])\n",
    "    else:\n",
    "        return odds(list[1:])\n",
    "\n",
    "odds([1,2,3,4])"
   ]
  },
  {
   "cell_type": "code",
   "execution_count": null,
   "id": "b1fad4af",
   "metadata": {},
   "outputs": [
    {
     "name": "stdout",
     "output_type": "stream",
     "text": [
      "<class 'int'>\n"
     ]
    }
   ],
   "source": [
    "def check_output_types(f):\n",
    "    def wrapper(*vals):\n",
    "        return type(f(vals[0], vals[1])) #adding two lists together, not adding two values\n",
    "    return wrapper\n",
    "\n",
    "@check_output_types\n",
    "def add_values(input1, input2):\n",
    "    return input1 + input2\n",
    "\n",
    "print(add_values([1],[2]))"
   ]
  },
  {
   "cell_type": "code",
   "execution_count": 7,
   "id": "1f3b5ae8",
   "metadata": {},
   "outputs": [
    {
     "data": {
      "text/plain": [
       "24"
      ]
     },
     "execution_count": 7,
     "metadata": {},
     "output_type": "execute_result"
    }
   ],
   "source": [
    "#factorial\n",
    "\n",
    "def factorial(int):\n",
    "    if int <= 1:\n",
    "        return 1\n",
    "    else:\n",
    "        return int * factorial(int-1)\n",
    "\n",
    "factorial(4)"
   ]
  }
 ],
 "metadata": {
  "kernelspec": {
   "display_name": "base",
   "language": "python",
   "name": "python3"
  },
  "language_info": {
   "codemirror_mode": {
    "name": "ipython",
    "version": 3
   },
   "file_extension": ".py",
   "mimetype": "text/x-python",
   "name": "python",
   "nbconvert_exporter": "python",
   "pygments_lexer": "ipython3",
   "version": "3.13.5"
  }
 },
 "nbformat": 4,
 "nbformat_minor": 5
}
