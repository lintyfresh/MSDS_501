{
 "cells": [
  {
   "cell_type": "markdown",
   "id": "36efd8ce",
   "metadata": {},
   "source": [
    "Error/Exception Handeling"
   ]
  },
  {
   "cell_type": "code",
   "execution_count": null,
   "id": "fe2f3677",
   "metadata": {},
   "outputs": [],
   "source": [
    "name = \"title #syntax error"
   ]
  },
  {
   "cell_type": "code",
   "execution_count": null,
   "id": "f60e862d",
   "metadata": {},
   "outputs": [],
   "source": [
    "num = 4\n",
    "if num > 6\n"
   ]
  },
  {
   "cell_type": "code",
   "execution_count": null,
   "id": "0071f529",
   "metadata": {},
   "outputs": [],
   "source": [
    "num = 4\n",
    "if num > 3:\n",
    "            num +=1\n",
    "    else:\n",
    "        num += 2"
   ]
  },
  {
   "cell_type": "code",
   "execution_count": null,
   "id": "d725363b",
   "metadata": {},
   "outputs": [],
   "source": [
    "message = \"string\"\n",
    "int_message = message / 4"
   ]
  },
  {
   "cell_type": "code",
   "execution_count": null,
   "id": "3c53a3c3",
   "metadata": {},
   "outputs": [],
   "source": [
    "a = 10 / 0"
   ]
  },
  {
   "cell_type": "code",
   "execution_count": null,
   "id": "2d119184",
   "metadata": {},
   "outputs": [],
   "source": [
    "import pytorch"
   ]
  },
  {
   "cell_type": "code",
   "execution_count": null,
   "id": "9eed4b9a",
   "metadata": {},
   "outputs": [],
   "source": [
    "a = 12\n",
    "c+1"
   ]
  },
  {
   "cell_type": "markdown",
   "id": "6368fd73",
   "metadata": {},
   "source": [
    "Python Data Types"
   ]
  },
  {
   "cell_type": "code",
   "execution_count": null,
   "id": "65e143dc",
   "metadata": {},
   "outputs": [],
   "source": [
    "# Numerics\n",
    "\n",
    "a = True\n",
    "print(int(a)) # boolean always returns the value 1\n",
    "\n",
    "x = 14\n",
    "y = 7.8\n",
    "\n",
    "print (x+y)\n",
    "\n",
    "print(x//y)\n",
    "\n",
    "print(x%y)\n",
    "\n",
    "print(abs(x))\n",
    "\n",
    "print(int(y)) #truncates\n",
    "\n",
    "print(float(x))\n",
    "\n",
    "z = complex(12,2) # think of 2 as 2i\n",
    "print(z)\n",
    "print(z+y+x)\n",
    "\n",
    "print(pow(x,y))\n",
    "\n",
    "print(round(y,0))\n",
    "\n",
    "print(x,y,z)"
   ]
  },
  {
   "cell_type": "code",
   "execution_count": null,
   "id": "ea7fbd65",
   "metadata": {},
   "outputs": [],
   "source": [
    "#Example 1\n",
    "\n",
    "principal = 20000\n",
    "apr = .06\n",
    "years = 3\n",
    "interest_frequency = 12\n",
    "\n",
    "ending_balance = principal * ((1 + (apr/interest_frequency)) ** (years * interest_frequency))\n",
    "\n",
    "print(ending_balance)"
   ]
  },
  {
   "cell_type": "code",
   "execution_count": null,
   "id": "8644011a",
   "metadata": {},
   "outputs": [],
   "source": [
    "#Sequences: ordered collection of items (lists, series, range, tuples)\n",
    "\n",
    "x = 2\n",
    "s = [1,2, 3, 4]\n",
    "t = [5, 6]\n",
    "n = 2\n",
    "i = 2\n",
    "j = 3\n",
    "k = 2\n",
    "\n",
    "print(x in s)\n",
    "print(x in t)\n",
    "print(x not in t)\n",
    "\n",
    "print(s+t)\n",
    "\n",
    "print(s * n) # concatenates s with s n times\n",
    "\n",
    "print(s[i]) #first value is always indexed at 0\n",
    "\n",
    "print(s[0:6]) #no error, just returns the full sequence\n",
    "\n",
    "print(s[1:3]) #does NOT return ending index (stops before)\n",
    "\n",
    "print(s[1:3:2]) # does not return the ending index\n",
    "\n",
    "print(len(s)) #starts counting from 1\n",
    "\n",
    "print(min(t))\n",
    "\n",
    "print(max(t))\n",
    "\n",
    "#print(s.index(0)) #ValueError index not found\n",
    "\n",
    "print(s.index(3))\n",
    "\n",
    "print(s.count(4))\n"
   ]
  },
  {
   "cell_type": "code",
   "execution_count": null,
   "id": "63c87976",
   "metadata": {},
   "outputs": [],
   "source": [
    "#list: mutable sequence\n",
    "\n",
    "new_list = list() #creates new list\n",
    "\n",
    "s = [1,2,3,4]\n",
    "\n",
    "i, x = 1,4\n",
    "\n",
    "s.sort(reverse = True)\n",
    "\n",
    "print(s)\n",
    "\n",
    "s.sort()\n",
    "\n",
    "print(s)\n",
    "\n",
    "#print(s.append(x)) returns none, doesn't work for mutables\n",
    "\n",
    "s.append(x)\n",
    "\n",
    "print(s)\n",
    "\n",
    "s.insert(i,x)\n",
    "\n",
    "print(s)\n",
    "\n",
    "s.remove(x)\n",
    "\n",
    "print(s)\n",
    "\n",
    "s.pop(i)\n",
    "\n",
    "s.reverse()\n",
    "\n",
    "print(s)"
   ]
  },
  {
   "cell_type": "code",
   "execution_count": null,
   "id": "903cd3a9",
   "metadata": {},
   "outputs": [],
   "source": [
    "#List Comprehension\n",
    "\n",
    "seq = [0, 1, 2, 3, 4, 5]\n",
    "\n",
    "even_seq = [ num for num in seq if num % 2 == 0]\n",
    "\n",
    "print(even_seq)\n",
    "\n",
    "odd_seq = [ num for num in seq if num % 2 != 0]\n",
    "\n",
    "print(odd_seq)"
   ]
  },
  {
   "cell_type": "code",
   "execution_count": null,
   "id": "e07f901a",
   "metadata": {},
   "outputs": [],
   "source": [
    "#Tuples\n",
    "\n",
    "new_tuple = 0,\n",
    "print(type(new_tuple))\n",
    "\n",
    "new_tuple = ()\n",
    "\n",
    "print(type(new_tuple))\n",
    "\n",
    "new_tuple = (1,2)\n",
    "\n",
    "print(type(new_tuple))"
   ]
  },
  {
   "cell_type": "code",
   "execution_count": null,
   "id": "a97ddd80",
   "metadata": {},
   "outputs": [],
   "source": [
    "#Example 2 \n",
    "\n",
    "ex = [1, 1, 2]\n",
    "\n",
    "def remove_elements(lst):\n",
    "    list_copy = lst.copy()\n",
    "    for element in list_copy:\n",
    "        if list_copy.count(element) > 1:\n",
    "            list_copy.remove(element)\n",
    "    list_copy.sort()\n",
    "    return list_copy\n",
    "\n",
    "remove_elements(ex)"
   ]
  },
  {
   "cell_type": "code",
   "execution_count": null,
   "id": "72455be7",
   "metadata": {},
   "outputs": [],
   "source": [
    "#range\n",
    "\n",
    "rng = range(0, 10, 2)\n",
    "\n",
    "print(rng) # returns range object, not the sequence\n",
    "\n",
    "print(list(rng)) # converts range object to a sequence"
   ]
  },
  {
   "cell_type": "code",
   "execution_count": null,
   "id": "f4c32071",
   "metadata": {},
   "outputs": [],
   "source": [
    "#Strings\n",
    "\n",
    "str = \" Hello, Everyone!\"\n",
    "\n",
    "suffix = \"!\"\n",
    "\n",
    "prefix = \"Hello\"\n",
    "\n",
    "sub = \"one\"\n",
    "\n",
    "char = \" \"\n",
    "sep = \",\"\n",
    "old = \"Everyone\"\n",
    "new = \"Everybody\"\n",
    "\n",
    "print(str.endswith(suffix)) #True\n",
    "\n",
    "print(str.startswith(prefix)) #False because of leading space\n",
    "\n",
    "str.find(sub) #returns index of first character of first instance of sub\n",
    "\n",
    "print(str.islower())\n",
    "\n",
    "print(str.isupper())\n",
    "\n",
    "test_str = \"Hello Everyone\"\n",
    "\n",
    "print(str.isalpha()) #spaces not considered alphabetical\n",
    "\n",
    "print(test_str.isalpha())\n",
    "\n",
    "print(str.isnumeric())\n",
    "\n",
    "print(str.lower())\n",
    "\n",
    "print(str.upper())\n",
    "\n",
    "print(str.strip(char))\n",
    "\n",
    "print(str.strip(\" !\"))\n",
    "\n",
    "str.split(sep)\n",
    "\n",
    "str.replace(old, new)\n"
   ]
  },
  {
   "cell_type": "code",
   "execution_count": null,
   "id": "912fdbef",
   "metadata": {},
   "outputs": [],
   "source": [
    "#Example 3\n",
    "\n",
    "s = \"abcdefg\" \n",
    "k = 2\n",
    "\n",
    "def reverse_str(lst, n):\n",
    "    output = list()\n",
    "    for i in range(0, len(lst), 2*k): # only values are 0 and 4, (ie where we want to start reversing)\n",
    "        temp_list = list(lst[i:i+k:1]) #slices where we want to reverse and converts to list\n",
    "        temp_list.reverse() #reverses\n",
    "        output += temp_list + list([lst[k+i:2*k+i]]) # slices part of string we don't want to change\n",
    "    return \"\".join(output) #join converts list back to string\n",
    "\n",
    "reverse_str(s, k)\n"
   ]
  },
  {
   "cell_type": "code",
   "execution_count": null,
   "id": "6b3a0f40",
   "metadata": {},
   "outputs": [],
   "source": [
    "#Example 4\n",
    "\n",
    "tuple1 = (10,4,5)\n",
    "tuple2 = (2,5,18)\n",
    "\n",
    "def max_among_tuples(tuple1, tuple2):\n",
    "    output = list()\n",
    "\n",
    "    len1 = len(tuple1)\n",
    "    len2 = len(tuple2)\n",
    "\n",
    "    if len1 > len2:\n",
    "        length = len2\n",
    "    else:\n",
    "        length = len1\n",
    "\n",
    "    for i in range(0,length):\n",
    "        if tuple1[i] > tuple2[i]:\n",
    "            output.append(tuple1[i])\n",
    "        else:\n",
    "            output.append(tuple2[i])\n",
    "    \n",
    "    output_tuple = tuple(output)\n",
    "\n",
    "    return output_tuple\n",
    "\n",
    "max_among_tuples(tuple1, tuple2)\n",
    "\n",
    "tuple1 = (1, 8, 13, 24)\n",
    "tuple2 = (1, 10)\n",
    "\n",
    "max_among_tuples(tuple1, tuple2)\n",
    "\n",
    "\n",
    "\n"
   ]
  },
  {
   "cell_type": "code",
   "execution_count": 11,
   "id": "d7e07243",
   "metadata": {},
   "outputs": [
    {
     "name": "stdout",
     "output_type": "stream",
     "text": [
      "['A', 'B', 'C']\n",
      "<dict_keyiterator object at 0x109518310>\n",
      "dict_keys(['A', 'B', 'C'])\n",
      "dict_values(['a', 'b', 'c!'])\n",
      "dict_items([('A', 'a'), ('B', 'b'), ('C', 'c!')])\n"
     ]
    }
   ],
   "source": [
    "#Dictionaries\n",
    "\n",
    "empty_dict = dict()\n",
    "\n",
    "d = {\"A\":\"a\", \"B\":\"b\", \"C\": \"c\"}\n",
    "k = \"C\"\n",
    "value = \"c!\"\n",
    "\n",
    "print(list(d)) #list of values\n",
    "\n",
    "d[k]\n",
    "\n",
    "d[k] = value\n",
    "\n",
    "#print(d)\n",
    "\n",
    "print(iter(d))\n",
    "print(d.keys())\n",
    "print(d.values())\n",
    "\n",
    "print(d.items()) #list of key value tuples\n"
   ]
  },
  {
   "cell_type": "code",
   "execution_count": null,
   "id": "639aa810",
   "metadata": {},
   "outputs": [],
   "source": [
    "#Sets\n",
    "\n",
    "empty_set = set()\n",
    "\n",
    "s = {1,2,3,4}\n",
    "item = 4\n",
    "x = 4\n",
    "other = {2,3}\n",
    "\n",
    "s.add(item)\n",
    "print(s)\n",
    "\n",
    "s.remove(item)\n",
    "print(s)\n",
    "\n",
    "print(x in s)\n",
    "\n",
    "print(s.isdisjoint(other))\n",
    "\n",
    "print(s.issubset(other))\n",
    "\n",
    "print(s.issuperset(other))\n",
    "\n",
    "print(s.union(other))\n",
    "\n",
    "print(s.intersection(other))\n",
    "\n",
    "print(s.difference(other))"
   ]
  },
  {
   "cell_type": "code",
   "execution_count": null,
   "id": "3a02cfe5",
   "metadata": {},
   "outputs": [],
   "source": [
    "#Example 5\n",
    "\n",
    "classes = [\"computation-MSDS597\",\n",
    "           \"statistics-MSDS504\", \n",
    "           \"computation-MSDS501\", \n",
    "           \"computation-MSDS501\", \n",
    "           \"statistics-MSDS504\"]\n",
    "\n",
    "def class_dictionary(lst):\n",
    "    \n",
    "    output_dict = dict()\n",
    "\n",
    "    for course in classes:\n",
    "\n",
    "        split_course = course.split(\"-\")\n",
    "        category = split_course[0]\n",
    "        course_id = split_course[1]\n",
    "\n",
    "        if category in output_dict.keys():\n",
    "            output_dict[category].add(course_id)\n",
    "        else:\n",
    "            output_dict[category] = {course_id} #makes the key a set\n",
    "    \n",
    "    return output_dict\n",
    "\n",
    "class_dictionary(classes)\n",
    "\n",
    "new_list = list()\n",
    "\n",
    "for key, value in class_dictionary(classes).items():\n",
    "    if key == \"computation\":\n",
    "        print(list(value))"
   ]
  },
  {
   "cell_type": "code",
   "execution_count": null,
   "id": "10bcd50d",
   "metadata": {},
   "outputs": [],
   "source": [
    "#Example 7\n",
    "\n",
    "nums = [2,7,11,15]\n",
    "\n",
    "target = 9\n",
    "\n",
    "def two_sum(lst, n):\n",
    "    output_list = list()\n",
    "\n",
    "    for i in range(0,len(lst)):\n",
    "        for j in range (i+1, len(lst)):\n",
    "            if lst[i] + lst[j] == n:\n",
    "                output_list.append(i)\n",
    "                output_list.append(j)\n",
    "\n",
    "    return output_list\n",
    "\n",
    "two_sum(nums, target)"
   ]
  },
  {
   "cell_type": "code",
   "execution_count": null,
   "id": "9d2e6780",
   "metadata": {},
   "outputs": [
    {
     "name": "stdout",
     "output_type": "stream",
     "text": [
      "[('msds501', 'Diane Woodbridge'), ('msds502', 'Robert Clements')]\n",
      "[('msds501', 'Diane Woodbridge'), ('msds502', 'Robert Clements')]\n",
      "[144, 145, 146, 527, 529]\n"
     ]
    }
   ],
   "source": [
    "#Day 4\n",
    "#Example 1\n",
    "\n",
    "classes = {\"msds501\":{\"instructor\":\"Diane Woodbridge\", \"classroom\": [144, 145, 146, 527]},\n",
    "        \"msds502\":{\"instructor\":\"Robert Clements\", \"classroom\": [527, 529]}}\n",
    "\n",
    "list_1 = list()\n",
    "\n",
    "for key,value in classes.items():\n",
    "    #empty_list = list()\n",
    "    #empty_list.append(key)\n",
    "    #empty_list.append(classes[key][\"instructor\"])\n",
    "    list_1.append((key, classes[key][\"instructor\"]))\n",
    "\n",
    "list_1.sort()\n",
    "print(list_1)\n",
    "\n",
    "list_2 = set()\n",
    "\n",
    "for key,value in classes.items():\n",
    "    for classrooms in classes[key][\"classroom\"]:\n",
    "        list_2.add(classrooms)\n",
    "\n",
    "list_2 = list(list_2)\n",
    "list_2.sort()\n",
    "print(list_2)\n"
   ]
  },
  {
   "cell_type": "code",
   "execution_count": null,
   "id": "44f69a01",
   "metadata": {},
   "outputs": [
    {
     "name": "stdout",
     "output_type": "stream",
     "text": [
      "[1, 0, 0, 2, 3, 0, 0, 4]\n"
     ]
    }
   ],
   "source": [
    "#Example 2\n",
    "\n",
    "arr = [1,0,2,3,0,4,5,0]\n",
    "\n",
    "len_arr = len(arr)\n",
    "\n",
    "i = 0\n",
    "\n",
    "while i < len_arr: #while loop is better if you're not going one by one\n",
    "    if arr[i] == 0:\n",
    "        arr.insert(i, 0)\n",
    "        i+=1\n",
    "    i+=1\n",
    "\n",
    "arr = arr[0:len_arr]\n",
    "\n",
    "print(arr)"
   ]
  },
  {
   "cell_type": "code",
   "execution_count": null,
   "id": "3a9cf416",
   "metadata": {},
   "outputs": [
    {
     "name": "stdout",
     "output_type": "stream",
     "text": [
      "{'Elsa': (89, 'B'), 'Anna': (90, 'B'), 'Olaf': (95, 'A'), 'Kristoff': (73, 'C'), 'Hans': (40, 'F')}\n"
     ]
    }
   ],
   "source": [
    "#Example 3\n",
    "\n",
    "#might want to try again for syntax\n",
    "\n",
    "data = {\"Elsa\":89, \"Anna\":90, \"Olaf\":95, \"Kristoff\":73, \"Hans\":40}\n",
    "\n",
    "for key,value in data.items():\n",
    "    match data[key]:\n",
    "        case x if x > 90:\n",
    "            grade = 'A'\n",
    "        case x if x > 80:\n",
    "            grade = 'B'\n",
    "        case x if x > 70:\n",
    "            grade = 'C'\n",
    "        case _:\n",
    "            grade = 'F'\n",
    "    \n",
    "    data[key] = (data[key], grade)\n",
    "\n",
    "print(data)"
   ]
  },
  {
   "cell_type": "code",
   "execution_count": null,
   "id": "1011e185",
   "metadata": {},
   "outputs": [
    {
     "name": "stdout",
     "output_type": "stream",
     "text": [
      "user_input is a prime number\n",
      "input is not a number, please enter a positive number\n",
      "user_input is a prime number\n"
     ]
    }
   ],
   "source": [
    "#user_input = input(\"Enter a positive number (0 to stop):\")\n",
    "\n",
    "#user_num = int(user_input)\n",
    "\n",
    "while True:\n",
    "\n",
    "    try:\n",
    "\n",
    "        user_num= int(input(\"Enter a positive number (0 to stop):\"))\n",
    "\n",
    "    except:\n",
    "\n",
    "        print(\"input is not a number, please enter a positive number\")\n",
    "\n",
    "    if user_num < 0:\n",
    "        print(\"user_input is not a positive number\")\n",
    "        continue\n",
    "    \n",
    "    elif user_num == 0:\n",
    "        break\n",
    "\n",
    "    if (user_num < 2):\n",
    "        print(\"user_input is not a prime number\")\n",
    "        continue\n",
    "\n",
    " \n",
    "    for i in list(range(2, user_num)):\n",
    "        if user_num % i == 0:\n",
    "            print(\"user_input is not a prime number\")\n",
    "            break\n",
    "\n",
    "    else:\n",
    "         print(\"user_input is a prime number\")\n",
    "    \n",
    "    "
   ]
  },
  {
   "cell_type": "code",
   "execution_count": null,
   "id": "9c57ae82",
   "metadata": {},
   "outputs": [
    {
     "name": "stdout",
     "output_type": "stream",
     "text": [
      "San Francisco\n",
      "Los Angeles\n",
      "San Francisco\n",
      "['Los Angeles', 'San Francisco']\n"
     ]
    },
    {
     "data": {
      "text/plain": [
       "[(1, 'Los Angeles'), (2, 'San Francisco')]"
      ]
     },
     "execution_count": 10,
     "metadata": {},
     "output_type": "execute_result"
    }
   ],
   "source": [
    "{i for i in range(0,10) if i > 5}\n",
    "\n",
    "contact = [{\"name\": \"Diane\", \"city\": \"San Francisco\"}, {\"name\": \"Laura\", \"city\": \"Los Angeles\"}, {\"name\": \"Robert\", \"city\": \"San Francisco\"}]\n",
    "\n",
    "empty_list = list()\n",
    "\n",
    "for entry in contact:\n",
    "    print(entry[\"city\"])\n",
    "    if entry[\"city\"] not in empty_list:\n",
    "        empty_list.append(entry[\"city\"])\n",
    "\n",
    "empty_list.sort()\n",
    "print(empty_list)\n",
    "\n",
    "enumerate(empty_list, 1) #returns enumerate object\n",
    "\n",
    "list(enumerate(empty_list,1)) #returns list of value, index pairs\n",
    "\n"
   ]
  },
  {
   "cell_type": "code",
   "execution_count": 12,
   "id": "09be72b9",
   "metadata": {},
   "outputs": [
    {
     "data": {
      "text/plain": [
       "'x less than 5'"
      ]
     },
     "execution_count": 12,
     "metadata": {},
     "output_type": "execute_result"
    }
   ],
   "source": [
    "x = 5\n",
    "\n",
    "\"x is greater than 5\" if x > 5 else \"x less than 5\"\n"
   ]
  },
  {
   "cell_type": "code",
   "execution_count": 19,
   "id": "6ee08c7b",
   "metadata": {},
   "outputs": [
    {
     "name": "stdout",
     "output_type": "stream",
     "text": [
      "[('Bob', 82, 94), ('Alice', 91, 85), ('Charlie', 70, 80), ('Dana', 88, 90), ('Eli', 73, 79)]\n",
      "{'Bob': (88.0, 'B'), 'Alice': (88.0, 'B'), 'Charlie': (75.0, 'C'), 'Dana': (89.0, 'B'), 'Eli': (76.0, 'C')}\n"
     ]
    }
   ],
   "source": [
    "#zip\n",
    "\n",
    "names   = ['Bob', 'Alice', 'Charlie', 'Dana', 'Eli']\n",
    "midterm = [82, 91, 70, 88, 73]\n",
    "final   = [94, 85, 80, 90, 79]\n",
    "\n",
    "print(list(zip(names, midterm, final)))\n",
    "\n",
    "new_dict = dict()\n",
    "\n",
    "for names, midterm, final in zip(names, midterm, final):\n",
    "    avg_score = (midterm+final)/2\n",
    "\n",
    "    match avg_score:\n",
    "        case x if  x >= 90:\n",
    "            letter_grade = 'A'\n",
    "        case x if x >= 80:\n",
    "            letter_grade = 'B'\n",
    "        case x if x >= 70:\n",
    "            letter_grade = 'C'\n",
    "        case _:\n",
    "            letter_grade = 'F'\n",
    "    \n",
    "    new_dict[names] = (avg_score, letter_grade)\n",
    "\n",
    "print(new_dict)\n"
   ]
  },
  {
   "cell_type": "code",
   "execution_count": null,
   "id": "415520f1",
   "metadata": {},
   "outputs": [],
   "source": [
    "print(list(range(0, 7, 4)))"
   ]
  },
  {
   "cell_type": "code",
   "execution_count": null,
   "id": "4d559767",
   "metadata": {},
   "outputs": [],
   "source": [
    "set1 = {1,2,3}\n",
    "set2 = {4,5,6}\n",
    "\n",
    "set1.union(set2)"
   ]
  },
  {
   "cell_type": "code",
   "execution_count": 23,
   "id": "411a96d2",
   "metadata": {},
   "outputs": [
    {
     "data": {
      "text/plain": [
       "{'415444'}"
      ]
     },
     "execution_count": 23,
     "metadata": {},
     "output_type": "execute_result"
    }
   ],
   "source": [
    "orders = [{\"id\": 1234, \"phone\": \"415444\"},{\"id\": 1236, \"phone\": \"415444\"},{\"id\": 1235, \"phone\": \"415444\"}]\n",
    "\n",
    "#{entries[\"phone\"] for entries in orders}\n",
    "set([entries[\"phone\"] for entries in orders])\n"
   ]
  },
  {
   "cell_type": "code",
   "execution_count": 25,
   "id": "3055defe",
   "metadata": {},
   "outputs": [
    {
     "data": {
      "text/plain": [
       "{'415': '415444'}"
      ]
     },
     "execution_count": 25,
     "metadata": {},
     "output_type": "execute_result"
    }
   ],
   "source": [
    "#practice use dict comprehension for phone numers starting with 415\n",
    "\n",
    "{\"415\":order[\"phone\"] for order in orders if order[\"phone\"].startswith(\"415\")}"
   ]
  }
 ],
 "metadata": {
  "kernelspec": {
   "display_name": "base",
   "language": "python",
   "name": "python3"
  },
  "language_info": {
   "codemirror_mode": {
    "name": "ipython",
    "version": 3
   },
   "file_extension": ".py",
   "mimetype": "text/x-python",
   "name": "python",
   "nbconvert_exporter": "python",
   "pygments_lexer": "ipython3",
   "version": "3.13.5"
  }
 },
 "nbformat": 4,
 "nbformat_minor": 5
}
